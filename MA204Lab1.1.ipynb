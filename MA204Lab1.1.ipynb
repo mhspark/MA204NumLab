{
  "cells": [
    {
      "cell_type": "markdown",
      "metadata": {
        "colab_type": "text",
        "id": "view-in-github"
      },
      "source": [
        "<a href=\"https://colab.research.google.com/github/mhspark/MA204Lab/blob/main/MA204Lab1.ipynb\" target=\"_parent\"><img src=\"https://colab.research.google.com/assets/colab-badge.svg\" alt=\"Open In Colab\"/></a>"
      ]
    },
    {
      "cell_type": "markdown",
      "metadata": {
        "id": "AuhcwYtgoo-b"
      },
      "source": [
        "Functions that generate data for analysis in later cells"
      ]
    },
    {
      "cell_type": "markdown",
      "metadata": {},
      "source": [
        "# MA204 Lab - Numerics\n",
        "## 1. Stock Investment Model\n",
        "You make an initial investment of $Vo in a certain stock and additional monthly contributions of $p.\n",
        "Instead of a fixed rate r of interest, the stock may gain or lose value in each time period. We assume\n",
        "that the stock’s value could change, in some random fashion, positively or negatively by as much as\n",
        "5% per month.\n",
        "\n",
        "\\(a\\). \n"
      ]
    },
    {
      "cell_type": "code",
      "execution_count": 1,
      "metadata": {
        "id": "bllh6Pz0oEur"
      },
      "outputs": [],
      "source": [
        "import numpy as np\n",
        "import random\n",
        "import pandas as pd\n",
        "from functools import partial\n",
        "\n",
        "def calc_nextvalue(init, a, prevvalue, i):\n",
        "    if prevvalue == 0:\n",
        "        prevvalue = init\n",
        "    r = (random.random()/10) - 0.05\n",
        "    return (1 + r) * prevvalue + a\n",
        "\n",
        "def calc_investmentperiod(period):\n",
        "    months = np.arange(period)\n",
        "    calc = np.frompyfunc(partial(calc_nextvalue, 1000, 10), 2, 1)\n",
        "    result = calc.accumulate(months)\n",
        "    return pd.DataFrame(data=result, columns=['portfoliovalue'])\n",
        "\n",
        "def get_investmentfirstdoubled(df):\n",
        "    dfDoubled = df[(df['portfoliovalue'] > 2000)]\n",
        "    return dfDoubled.index.values[0] if dfDoubled.size > 0 else None\n",
        "\n",
        "def get_lastinvestmentvalue(df):\n",
        "    return df.tail(1).values[0][0]\n",
        "\n",
        "def calc_investmentperiodstats(period, i):\n",
        "    df = calc_investmentperiod(period)\n",
        "    periodfirstdoubled = get_investmentfirstdoubled(df)\n",
        "    lastinvestmentvalue = get_lastinvestmentvalue(df)\n",
        "    return (periodfirstdoubled, lastinvestmentvalue)\n",
        "\n",
        "def calc_simulation(period, samples):\n",
        "    iterations = np.arange(samples)\n",
        "    data = np.frompyfunc(partial(calc_investmentperiodstats, period), 1, 1)(iterations)\n",
        "    return pd.DataFrame.from_records(data=data, columns=['firstdoubledperiod', 'finalportfoliovalue'])\n"
      ]
    },
    {
      "cell_type": "markdown",
      "metadata": {
        "id": "H4eF0DgAo0kC"
      },
      "source": [
        "This runs the simulation to generate stats of last investment value and first period the investment doubled."
      ]
    },
    {
      "cell_type": "code",
      "execution_count": 2,
      "metadata": {
        "id": "Inn6Oia2oEux"
      },
      "outputs": [],
      "source": [
        "dfSimStats = calc_simulation(120, 250)\n"
      ]
    },
    {
      "cell_type": "markdown",
      "metadata": {
        "id": "_OjWkgJPpBMF"
      },
      "source": [
        "Using the generated stats, get the min and max last investment value."
      ]
    },
    {
      "cell_type": "code",
      "execution_count": 3,
      "metadata": {
        "colab": {
          "base_uri": "https://localhost:8080/"
        },
        "id": "Ho2kHYnJoEuy",
        "outputId": "446ee514-8063-41f7-e62e-b079cb627f2d"
      },
      "outputs": [
        {
          "name": "stdout",
          "output_type": "stream",
          "text": [
            "3913.7710072040577\n",
            "1142.6779977400638\n"
          ]
        }
      ],
      "source": [
        "print(dfSimStats['finalportfoliovalue'].max())\n",
        "print(dfSimStats['finalportfoliovalue'].min())"
      ]
    },
    {
      "cell_type": "code",
      "execution_count": 4,
      "metadata": {
        "colab": {
          "base_uri": "https://localhost:8080/",
          "height": 448
        },
        "id": "d78dRnKgoEuz",
        "outputId": "d1a297fd-083c-4892-d3cc-cdcfdd69667f"
      },
      "outputs": [
        {
          "data": {
            "text/plain": [
              "<Axes: >"
            ]
          },
          "execution_count": 4,
          "metadata": {},
          "output_type": "execute_result"
        },
        {
          "data": {
            "image/png": "[encoded data removed]",
            "text/plain": [
              "<Figure size 640x480 with 1 Axes>"
            ]
          },
          "metadata": {},
          "output_type": "display_data"
        }
      ],
      "source": [
        "dfSimStats['finalportfoliovalue'].hist()"
      ]
    },
    {
      "cell_type": "code",
      "execution_count": 5,
      "metadata": {
        "colab": {
          "base_uri": "https://localhost:8080/"
        },
        "id": "Ml8fpnTwoEu0",
        "outputId": "e7519645-fb3a-40c3-a618-adf5160b1af2"
      },
      "outputs": [
        {
          "name": "stdout",
          "output_type": "stream",
          "text": [
            "119.0\n",
            "27.0\n"
          ]
        }
      ],
      "source": [
        "print(dfSimStats['firstdoubledperiod'].max())\n",
        "print(dfSimStats['firstdoubledperiod'].min())"
      ]
    },
    {
      "cell_type": "code",
      "execution_count": 6,
      "metadata": {
        "colab": {
          "base_uri": "https://localhost:8080/",
          "height": 448
        },
        "id": "NX90hz9moEu0",
        "outputId": "45b83998-6162-411b-8749-11f26020c322"
      },
      "outputs": [
        {
          "data": {
            "text/plain": [
              "<Axes: >"
            ]
          },
          "execution_count": 6,
          "metadata": {},
          "output_type": "execute_result"
        },
        {
          "data": {
            "image/png": "[encoded data removed]",
            "text/plain": [
              "<Figure size 640x480 with 1 Axes>"
            ]
          },
          "metadata": {},
          "output_type": "display_data"
        }
      ],
      "source": [
        "dfSimStats['firstdoubledperiod'].hist()"
      ]
    },
    {
      "cell_type": "code",
      "execution_count": null,
      "metadata": {},
      "outputs": [],
      "source": [
        "import numpy as np\n",
        "import random\n",
        "import pandas as pd\n",
        "import itertools\n",
        "\n",
        "def calc_nextvalue(oldvalue):\n",
        "    r = (random.random()/10) - 0.05\n",
        "    return (1 + r)*oldvalue + 10\n",
        "\n",
        "def calc_newvalue(oldvalue, i):\n",
        "    return calc_nextvalue(oldvalue)\n",
        "\n",
        "months = np.arange(119)\n",
        "result = itertools.accumulate(months, calc_newvalue, initial=calc_nextvalue(1000))\n",
        "df = pd.DataFrame(data=result, columns=['portfoliovalue'])\n",
        "\n",
        "#df\n",
        "# dfDoubled = df[(df['portfoliovalue'] > 2000)]\n",
        "# dfDoubled\n",
        "#dfDoubled.index.values[0] if dfDoubled.size > 0 else None\n",
        "\n",
        "df['portfoliovalue'].hist()"
      ]
    }
  ],
  "metadata": {
    "colab": {
      "include_colab_link": true,
      "provenance": []
    },
    "kernelspec": {
      "display_name": "Python 3",
      "language": "python",
      "name": "python3"
    },
    "language_info": {
      "codemirror_mode": {
        "name": "ipython",
        "version": 3
      },
      "file_extension": ".py",
      "mimetype": "text/x-python",
      "name": "python",
      "nbconvert_exporter": "python",
      "pygments_lexer": "ipython3",
      "version": "3.9.13"
    },
    "orig_nbformat": 4
  },
  "nbformat": 4,
  "nbformat_minor": 0
}
